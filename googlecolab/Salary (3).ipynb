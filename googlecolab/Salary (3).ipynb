{
  "nbformat": 4,
  "nbformat_minor": 0,
  "metadata": {
    "colab": {
      "name": "Salary.ipynb",
      "provenance": [],
      "collapsed_sections": []
    },
    "kernelspec": {
      "name": "python3",
      "display_name": "Python 3"
    },
    "language_info": {
      "name": "python"
    }
  },
  "cells": [
    {
      "cell_type": "markdown",
      "metadata": {
        "id": "CADbJ0DsdYp9"
      },
      "source": [
        "#Salary prediction"
      ]
    },
    {
      "cell_type": "markdown",
      "metadata": {
        "id": "R-wZ-m7adeLY"
      },
      "source": [
        "#Importing of the libraries"
      ]
    },
    {
      "cell_type": "code",
      "metadata": {
        "id": "t8-0g1j3djS1"
      },
      "source": [
        "import numpy as np\n",
        "import pandas as pd\n",
        "import matplotlib.pyplot as plt"
      ],
      "execution_count": 1,
      "outputs": []
    },
    {
      "cell_type": "markdown",
      "metadata": {
        "id": "KXFc5Unsd5TX"
      },
      "source": [
        "#Importing the dataset"
      ]
    },
    {
      "cell_type": "code",
      "metadata": {
        "colab": {
          "base_uri": "https://localhost:8080/",
          "height": 203
        },
        "id": "IR3bm1Rcd8zm",
        "outputId": "33c7a503-98c8-422f-841d-da9198384672"
      },
      "source": [
        "data = pd.read_csv(\"/content/salary.txt\")\n",
        "data.head()"
      ],
      "execution_count": 4,
      "outputs": [
        {
          "output_type": "execute_result",
          "data": {
            "text/html": [
              "<div>\n",
              "<style scoped>\n",
              "    .dataframe tbody tr th:only-of-type {\n",
              "        vertical-align: middle;\n",
              "    }\n",
              "\n",
              "    .dataframe tbody tr th {\n",
              "        vertical-align: top;\n",
              "    }\n",
              "\n",
              "    .dataframe thead th {\n",
              "        text-align: right;\n",
              "    }\n",
              "</style>\n",
              "<table border=\"1\" class=\"dataframe\">\n",
              "  <thead>\n",
              "    <tr style=\"text-align: right;\">\n",
              "      <th></th>\n",
              "      <th>YearsExperience</th>\n",
              "      <th>Salary</th>\n",
              "    </tr>\n",
              "  </thead>\n",
              "  <tbody>\n",
              "    <tr>\n",
              "      <th>0</th>\n",
              "      <td>1.1</td>\n",
              "      <td>39343.0</td>\n",
              "    </tr>\n",
              "    <tr>\n",
              "      <th>1</th>\n",
              "      <td>1.3</td>\n",
              "      <td>46205.0</td>\n",
              "    </tr>\n",
              "    <tr>\n",
              "      <th>2</th>\n",
              "      <td>1.5</td>\n",
              "      <td>37731.0</td>\n",
              "    </tr>\n",
              "    <tr>\n",
              "      <th>3</th>\n",
              "      <td>2.0</td>\n",
              "      <td>43525.0</td>\n",
              "    </tr>\n",
              "    <tr>\n",
              "      <th>4</th>\n",
              "      <td>2.2</td>\n",
              "      <td>39891.0</td>\n",
              "    </tr>\n",
              "  </tbody>\n",
              "</table>\n",
              "</div>"
            ],
            "text/plain": [
              "   YearsExperience   Salary\n",
              "0              1.1  39343.0\n",
              "1              1.3  46205.0\n",
              "2              1.5  37731.0\n",
              "3              2.0  43525.0\n",
              "4              2.2  39891.0"
            ]
          },
          "metadata": {
            "tags": []
          },
          "execution_count": 4
        }
      ]
    },
    {
      "cell_type": "markdown",
      "metadata": {
        "id": "Axudst5neIRu"
      },
      "source": [
        "#Initiating the variable"
      ]
    },
    {
      "cell_type": "code",
      "metadata": {
        "id": "7H-z1MkQeWNi"
      },
      "source": [
        "X = data['YearsExperience'].values.reshape(-1,1)\n",
        "y = data['Salary'].values.reshape(-1,1)"
      ],
      "execution_count": 5,
      "outputs": []
    },
    {
      "cell_type": "markdown",
      "metadata": {
        "id": "TzMjgEPYedoz"
      },
      "source": [
        "#Scatter diagram"
      ]
    },
    {
      "cell_type": "code",
      "metadata": {
        "colab": {
          "base_uri": "https://localhost:8080/",
          "height": 497
        },
        "id": "CJDN-mTUekdP",
        "outputId": "664b9b26-6106-494b-b81f-027670c4c973"
      },
      "source": [
        "plt.figure(figsize=(16,8))\n",
        "plt.scatter(X,y, c='black')\n",
        "plt.xlabel('year Experience')\n",
        "plt.ylabel('salary')\n",
        "plt.show()\n"
      ],
      "execution_count": 6,
      "outputs": [
        {
          "output_type": "display_data",
          "data": {
            "image/png": "[encoded data removed]",
            "text/plain": [
              "<Figure size 1152x576 with 1 Axes>"
            ]
          },
          "metadata": {
            "tags": [],
            "needs_background": "light"
          }
        }
      ]
    },
    {
      "cell_type": "markdown",
      "metadata": {
        "id": "nwoooYjzgTgE"
      },
      "source": [
        "#Splitting dataset into training and testing dataset"
      ]
    },
    {
      "cell_type": "code",
      "metadata": {
        "id": "VyoX45lBgcXg"
      },
      "source": [
        "from sklearn.model_selection import train_test_split\n",
        "X_train, X_test, y_train, y_test = train_test_split(X, y, test_size=0.2, random_state=42)"
      ],
      "execution_count": 7,
      "outputs": []
    },
    {
      "cell_type": "markdown",
      "metadata": {
        "id": "eOMA26_Jgh5p"
      },
      "source": [
        "#Fitting linear regression to our training set to train our model"
      ]
    },
    {
      "cell_type": "code",
      "metadata": {
        "colab": {
          "base_uri": "https://localhost:8080/"
        },
        "id": "oL7MoN8kgtHa",
        "outputId": "b6018c6c-190a-464f-f7b6-fa6bf0463b2e"
      },
      "source": [
        "from sklearn.linear_model import LinearRegression\n",
        "reg = LinearRegression()\n",
        "reg.fit(X_train, y_train)"
      ],
      "execution_count": 8,
      "outputs": [
        {
          "output_type": "execute_result",
          "data": {
            "text/plain": [
              "LinearRegression(copy_X=True, fit_intercept=True, n_jobs=None, normalize=False)"
            ]
          },
          "metadata": {
            "tags": []
          },
          "execution_count": 8
        }
      ]
    },
    {
      "cell_type": "markdown",
      "metadata": {
        "id": "8gdgL9mBgw8c"
      },
      "source": [
        "#Predicting the test set result"
      ]
    },
    {
      "cell_type": "code",
      "metadata": {
        "colab": {
          "base_uri": "https://localhost:8080/",
          "height": 497
        },
        "id": "-GNrHj5Og1pf",
        "outputId": "a51af340-73e3-4504-c018-0528e1b979bc"
      },
      "source": [
        "y_pred = reg.predict(X_test)\n",
        "plt.figure(figsize=(16, 8))\n",
        "plt.scatter(X, y, c='black')\n",
        "plt.plot(\n",
        "    X_test,\n",
        "    y_pred,\n",
        "    c='blue',\n",
        "    linewidth=4\n",
        ")\n",
        "plt.xlabel(\"year experience\")\n",
        "plt.ylabel(\"salary\")\n",
        "plt.show()"
      ],
      "execution_count": 9,
      "outputs": [
        {
          "output_type": "display_data",
          "data": {
            "image/png": "[encoded data removed]",
            "text/plain": [
              "<Figure size 1152x576 with 1 Axes>"
            ]
          },
          "metadata": {
            "tags": [],
            "needs_background": "light"
          }
        }
      ]
    },
    {
      "cell_type": "markdown",
      "metadata": {
        "id": "fwuDz3C_hFGX"
      },
      "source": [
        "#Calculating the Coefficients"
      ]
    },
    {
      "cell_type": "code",
      "metadata": {
        "colab": {
          "base_uri": "https://localhost:8080/"
        },
        "id": "f0sTrUkYhOPq",
        "outputId": "9d788b42-4ebe-4d2b-f000-5bc0f4a93b89"
      },
      "source": [
        "reg.coef_"
      ],
      "execution_count": 10,
      "outputs": [
        {
          "output_type": "execute_result",
          "data": {
            "text/plain": [
              "array([[9423.81532303]])"
            ]
          },
          "metadata": {
            "tags": []
          },
          "execution_count": 10
        }
      ]
    },
    {
      "cell_type": "markdown",
      "metadata": {
        "id": "qQtIujl2hR_8"
      },
      "source": [
        "#Calculating the Intercept"
      ]
    },
    {
      "cell_type": "code",
      "metadata": {
        "colab": {
          "base_uri": "https://localhost:8080/"
        },
        "id": "VlqK6FyshVog",
        "outputId": "a77a6375-fd55-4cb1-d0c7-7fbdfe609807"
      },
      "source": [
        "reg.intercept_"
      ],
      "execution_count": 11,
      "outputs": [
        {
          "output_type": "execute_result",
          "data": {
            "text/plain": [
              "array([25321.58301178])"
            ]
          },
          "metadata": {
            "tags": []
          },
          "execution_count": 11
        }
      ]
    },
    {
      "cell_type": "markdown",
      "metadata": {
        "id": "SDAbk4K0hZCm"
      },
      "source": [
        "#Calculating the R squared value"
      ]
    },
    {
      "cell_type": "code",
      "metadata": {
        "colab": {
          "base_uri": "https://localhost:8080/"
        },
        "id": "EGchwDt9heT6",
        "outputId": "40cfdee1-b4e7-490b-a227-55c7d030d096"
      },
      "source": [
        "from sklearn.metrics import r2_score\n",
        "r2_score(y_test, y_pred)"
      ],
      "execution_count": 12,
      "outputs": [
        {
          "output_type": "execute_result",
          "data": {
            "text/plain": [
              "0.9024461774180497"
            ]
          },
          "metadata": {
            "tags": []
          },
          "execution_count": 12
        }
      ]
    },
    {
      "cell_type": "markdown",
      "metadata": {
        "id": "u6jKoLVWhkXT"
      },
      "source": [
        "#Predict New value"
      ]
    },
    {
      "cell_type": "code",
      "metadata": {
        "colab": {
          "base_uri": "https://localhost:8080/"
        },
        "id": "g3-SPV09hpIC",
        "outputId": "c4002d4b-d200-4f55-f9f3-f2a7c5f8a95f"
      },
      "source": [
        "output = reg.predict([[2]])\n",
        "output"
      ],
      "execution_count": 13,
      "outputs": [
        {
          "output_type": "execute_result",
          "data": {
            "text/plain": [
              "array([[44169.21365784]])"
            ]
          },
          "metadata": {
            "tags": []
          },
          "execution_count": 13
        }
      ]
    },
    {
      "cell_type": "code",
      "metadata": {
        "colab": {
          "base_uri": "https://localhost:8080/"
        },
        "id": "XNvJXnbmiiSF",
        "outputId": "56069f3e-350e-4a91-c5fd-57c26746702e"
      },
      "source": [
        "print(\"Enter the ammount you will invest on:\")\n",
        "yearexperience = float(input(\"year experience : \"))\n",
        "\n",
        "\n",
        "#predicting the sales with respect to the inputs\n",
        "output = reg.predict([[yearexperience]])\n",
        "print(\" you will recieve the salary of Rs{}  .\"\\\n",
        "      .format(output[0] if output else \"not predictable\",yearexperience))"
      ],
      "execution_count": 14,
      "outputs": [
        {
          "output_type": "stream",
          "text": [
            "Enter the ammount you will invest on:\n",
            "year experience : 3\n",
            " you will recieve the salary of Rs[53593.02898087]  .\n"
          ],
          "name": "stdout"
        }
      ]
    }
  ]
}